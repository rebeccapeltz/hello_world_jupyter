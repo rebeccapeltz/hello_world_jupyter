{
 "cells": [
  {
   "cell_type": "markdown",
   "id": "599c1a08-1274-4933-9f90-e91ca213df7c",
   "metadata": {},
   "source": [
    "# Introduction: Hello World"
   ]
  },
  {
   "cell_type": "code",
   "execution_count": 1,
   "id": "d0be08df-796e-40fe-8628-7be9260afe6b",
   "metadata": {},
   "outputs": [
    {
     "name": "stdout",
     "output_type": "stream",
     "text": [
      "Hello World\n"
     ]
    }
   ],
   "source": [
    "print('Hello World')"
   ]
  },
  {
   "cell_type": "code",
   "execution_count": null,
   "id": "8670c2db-60fa-41bc-b9e6-0e3f787d55dc",
   "metadata": {},
   "outputs": [],
   "source": []
  }
 ],
 "metadata": {
  "kernelspec": {
   "display_name": "Python 3 (ipykernel)",
   "language": "python",
   "name": "python3"
  },
  "language_info": {
   "codemirror_mode": {
    "name": "ipython",
    "version": 3
   },
   "file_extension": ".py",
   "mimetype": "text/x-python",
   "name": "python",
   "nbconvert_exporter": "python",
   "pygments_lexer": "ipython3",
   "version": "3.13.3"
  }
 },
 "nbformat": 4,
 "nbformat_minor": 5
}
